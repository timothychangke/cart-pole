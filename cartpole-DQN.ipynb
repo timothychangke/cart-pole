{
  "cells": [
    {
      "attachments": {},
      "cell_type": "markdown",
      "metadata": {
        "id": "view-in-github"
      },
      "source": [
        "<a href=\"https://colab.research.google.com/github/yue-zhongqi/cartpole_colab/blob/main/cartpole.ipynb\" target=\"_parent\"><img src=\"https://colab.research.google.com/assets/colab-badge.svg\" alt=\"Open In Colab\"/></a>"
      ]
    },
    {
      "attachments": {},
      "cell_type": "markdown",
      "metadata": {
        "id": "ZauhjPSfX7pI"
      },
      "source": [
        "# Tutorial and Sample Code for Balancing a Pole on a Cart"
      ]
    },
    {
      "attachments": {},
      "cell_type": "markdown",
      "metadata": {
        "id": "RwKbYeTgbaTA"
      },
      "source": [
        "## Importing dependencies and define helper functions"
      ]
    },
    {
      "cell_type": "code",
      "execution_count": 272,
      "metadata": {
        "id": "j6KpgCLGYWmj"
      },
      "outputs": [],
      "source": [
        "import gymnasium as gym\n",
        "import math\n",
        "import random\n",
        "import matplotlib\n",
        "import matplotlib.pyplot as plt\n",
        "from collections import namedtuple, deque\n",
        "from itertools import count\n",
        "from tqdm import tqdm\n",
        "from gym.wrappers import RecordVideo\n",
        "\n",
        "import torch\n",
        "import torch.nn as nn\n",
        "import torch.optim as optim\n",
        "import torch.nn.functional as F\n",
        "\n",
        "import glob\n",
        "import io\n",
        "import base64\n",
        "from IPython.display import HTML\n",
        "from IPython import display as ipythondisplay\n",
        "\n",
        "device = torch.device(\"cuda\" if torch.cuda.is_available() else \"cpu\")\n",
        "\n",
        "def show_video():\n",
        "  mp4list = glob.glob('video/*.mp4')\n",
        "  if len(mp4list) > 0:\n",
        "    mp4 = mp4list[0]\n",
        "    video = io.open(mp4, 'r+b').read()\n",
        "    encoded = base64.b64encode(video)\n",
        "    ipythondisplay.display(HTML(data='''<video alt=\"test\" autoplay \n",
        "                loop controls style=\"height: 400px;\">\n",
        "                <source src=\"data:video/mp4;base64,{0}\" type=\"video/mp4\" />\n",
        "             </video>'''.format(encoded.decode('ascii'))))\n",
        "  else: \n",
        "    print(\"Could not find video\")"
      ]
    },
    {
      "attachments": {},
      "cell_type": "markdown",
      "metadata": {
        "id": "2oIzK9SzhlWN"
      },
      "source": [
        "## Task 1: Development of an RL agent"
      ]
    },
    {
      "attachments": {},
      "cell_type": "markdown",
      "metadata": {
        "id": "sDiCxLcXv6aI"
      },
      "source": [
        "### Task 1: Deep Q Network RL Agent ###\n",
        "referenced from https://pytorch.org/tutorials/intermediate/reinforcement_q_learning.html"
      ]
    },
    {
      "attachments": {},
      "cell_type": "markdown",
      "metadata": {},
      "source": [
        "#### DEEP Q-Network (DQN) ####"
      ]
    },
    {
      "attachments": {},
      "cell_type": "markdown",
      "metadata": {},
      "source": [
        "##### Constructor #####\n",
        "\n",
        "__n_observations__ : Size of observation space (input size), number of features observed from environment at each timestamp\n",
        "__n_actions__ : Size of action space (ouput size), number of possible actions the agent can take\n",
        "\n",
        "__self.layer1__ : takes the input (observation) and transforms it into a 128-dimensional space <br>\n",
        "__self.layer2__ : hidden layer which operates on the 128-dimensional space and outputs another 128-dimensional space <br>\n",
        "__self.layer3__ : transforms the output of __layer2__ into the action space size, producing a vlue for each possible action\n",
        "\n",
        "##### Forward Pass #####\n",
        "\n",
        "1. __forward__ takes an input tensor __x__ (observations) \n",
        "2. Passes __x__ through __layer1__ and applies the ReLu activation function (__F.relu__) to the output\n",
        "3. Ouput is then pass through __layer2__ and another ReLu activation function \n",
        "4. Output of __layer2__ is passed through __layer3__ which maps it to the action space and returned without any activation function (output represents expected rewards for each action)<br>\n",
        "\n",
        "Output of __forward__ method is a tensor where each element corresponds to a predicted value (Q-value) of taking an action given the current observation and used by the agent to decide which action to take next\n"
      ]
    },
    {
      "cell_type": "code",
      "execution_count": 273,
      "metadata": {},
      "outputs": [],
      "source": [
        "# Check if CUDA is available, otherwise use CPU\n",
        "device = torch.device(\"cuda\" if torch.cuda.is_available() else \"cpu\")\n",
        "\n",
        "class DQN(nn.Module):\n",
        "    def __init__(self, n_observations, n_actions):\n",
        "        super(DQN, self).__init__()\n",
        "        self.fc1 = nn.Linear(n_observations, 128)\n",
        "        self.fc2 = nn.Linear(128, 128)\n",
        "        self.fc3 = nn.Linear(128, n_actions)\n",
        "\n",
        "    def forward(self, x):\n",
        "        x = F.relu(self.fc1(x))\n",
        "        x = F.relu(self.fc2(x))\n",
        "        return self.fc3(x)"
      ]
    },
    {
      "attachments": {},
      "cell_type": "markdown",
      "metadata": {},
      "source": [
        "#### Replay Memory ####\n",
        "\n",
        "##### Transition #####\n",
        "__Transition__ is a __namedtuple__ which represents a single transition in the environment and is essentially a timestamp of the agent's interaction with the environment and includes:\n",
        "- __state__ : observation of enivronment before taking the action\n",
        "- __action__ : action taken by the agent\n",
        "- __next_state__ : obeservation of environment after taking the action\n",
        "- __reward__ : reward received after taking the action"
      ]
    },
    {
      "cell_type": "code",
      "execution_count": 274,
      "metadata": {},
      "outputs": [],
      "source": [
        "Transition = namedtuple('Transition', ('state', 'action', 'next_state', 'reward'))"
      ]
    },
    {
      "attachments": {},
      "cell_type": "markdown",
      "metadata": {},
      "source": [
        "##### Constructor #####\n",
        "Takes a single argument __capacity__ which is the maximum number of transitions the replay memory can hold and initialises a __deque__ (double-ended queue) with a fixed maximum length of __capacity__. This __deque__ automatically removes the oldest element when new transitions are added beyond its capacity, ensuring memory size never exceeds the specifieid limit\n",
        "\n",
        "##### Push #####\n",
        "Apends a new __Transition__ object to the __memory__ deque\n",
        "\n",
        "##### Sample #####\n",
        "Randomly samples a batch of transitions from the memory, where __batch_size__ specifies how many transitions to sample, allowing the DQN to learn from a random sample of past experiences, reducing correlation between consecutive training samples and stabilises training"
      ]
    },
    {
      "cell_type": "code",
      "execution_count": 275,
      "metadata": {},
      "outputs": [],
      "source": [
        "class ReplayMemory(object):\n",
        "    def __init__(self, capacity):\n",
        "        self.memory = deque([], maxlen=capacity)\n",
        "\n",
        "    def add(self, *args):\n",
        "        self.memory.append(Transition(*args))\n",
        "\n",
        "    def sample(self, batch_size):\n",
        "        return random.sample(self.memory, batch_size)\n",
        "\n",
        "    def __len__(self):\n",
        "        return len(self.memory)"
      ]
    },
    {
      "attachments": {},
      "cell_type": "markdown",
      "metadata": {},
      "source": [
        "#### Environment Initialisation ####"
      ]
    },
    {
      "cell_type": "code",
      "execution_count": 276,
      "metadata": {},
      "outputs": [
        {
          "data": {
            "text/plain": [
              "(array([-0.04404246,  0.00477466,  0.00630126,  0.03452177], dtype=float32),\n",
              " {})"
            ]
          },
          "execution_count": 276,
          "metadata": {},
          "output_type": "execute_result"
        }
      ],
      "source": [
        "env = gym.make('CartPole-v1').unwrapped\n",
        "env.reset()"
      ]
    },
    {
      "attachments": {},
      "cell_type": "markdown",
      "metadata": {},
      "source": [
        "##### Hyperparameters #####\n",
        "__BATCH_SIZE__ : Number of training examples used in one iteration to update the network's weights <br>\n",
        "__GAMMA__ : Discount factor for future rewards, influencing how much the agent values immediate rewards over future rewards <br>\n",
        "__EPS_START__, __EPS_END__, __EPS_DECAY__ : Parameters for epsilon-greedy strategy <br>\n",
        "__TAU__ : Parameter used for soft update of the target network's weights <br>\n",
        "__LR__ : Learning rate for optimiser <br>"
      ]
    },
    {
      "attachments": {},
      "cell_type": "markdown",
      "metadata": {},
      "source": [
        "##### Network Initialisation #####\n",
        "__n_actions__ & __n_observations__ : Determines size of action space and shape of obervation space respectively"
      ]
    },
    {
      "attachments": {},
      "cell_type": "markdown",
      "metadata": {},
      "source": [
        "__policy_net__ : Neural network used to determine action to take at each step"
      ]
    },
    {
      "attachments": {},
      "cell_type": "markdown",
      "metadata": {},
      "source": [
        "__target_net__ : A copy of the policy network which helps in stabilising training. It is updated less frequently to provide a stable target for optimising the policy network"
      ]
    },
    {
      "attachments": {},
      "cell_type": "markdown",
      "metadata": {},
      "source": [
        "##### Optimiser #####\n",
        "Defines the optimisation algorithm used to update the weights of the policy network (AdamW). __amsgrad=True__ is a variant of the Adam optimiser which can lead to better convergence in some cases"
      ]
    },
    {
      "attachments": {},
      "cell_type": "markdown",
      "metadata": {},
      "source": [
        "##### Replay Memory #####\n",
        "Initialises replay memory with a caopacity of 10000 transitions"
      ]
    },
    {
      "attachments": {},
      "cell_type": "markdown",
      "metadata": {},
      "source": [
        "##### Steps counter #####\n",
        "Keeps track of the total number of actions the agent has taken"
      ]
    },
    {
      "cell_type": "code",
      "execution_count": 277,
      "metadata": {},
      "outputs": [],
      "source": [
        "BATCH_SIZE = 128\n",
        "GAMMA = 0.99\n",
        "EPS_START = 0.9\n",
        "EPS_END = 0.05\n",
        "EPS_DECAY = 200\n",
        "TAU = 0.005\n",
        "LR = 1e-4\n",
        "\n",
        "n_actions = env.action_space.n\n",
        "n_observations = env.observation_space.shape[0]\n",
        "\n",
        "policy_net = DQN(n_observations, n_actions).to(device)\n",
        "target_net = DQN(n_observations, n_actions).to(device)\n",
        "target_net.load_state_dict(policy_net.state_dict())\n",
        "target_net.eval()\n",
        "\n",
        "optimizer = optim.AdamW(policy_net.parameters(), lr=LR, amsgrad=True)\n",
        "memory = ReplayMemory(10000)\n",
        "\n",
        "steps_done = 0"
      ]
    },
    {
      "attachments": {},
      "cell_type": "markdown",
      "metadata": {},
      "source": [
        "#### Optimiser ####"
      ]
    },
    {
      "cell_type": "code",
      "execution_count": 278,
      "metadata": {},
      "outputs": [],
      "source": [
        "def optimize_model():\n",
        "    # Checks if there are enough transitions stored in the replay memory to sample a batch.\n",
        "    # If not, returns immediately without performing optimisation\n",
        "    if len(memory) < BATCH_SIZE:\n",
        "        return\n",
        "    \n",
        "    # Samples a batch of transition from the replay memory and restructures this batch\n",
        "    # Converts the batch from a list of \"Transition\" namedtuples into a single \"Transition\" namedtuple\n",
        "    # where each attribute contain all corresponding elements from the batch\n",
        "    transitions = memory.sample(BATCH_SIZE)\n",
        "    batch = Transition(*zip(*transitions))\n",
        "\n",
        "    # Processes the batch to separate final and non-final states\n",
        "    # A mask is created to identify non-final states\n",
        "    # States, actions & rewards concatenated into tensors for batch processing\n",
        "    non_final_mask = torch.tensor(tuple(map(lambda s: s is not None,\n",
        "                                          batch.next_state)), device=device, dtype=torch.bool)\n",
        "    non_final_next_states = torch.cat([s for s in batch.next_state\n",
        "                                                if s is not None])\n",
        "    state_batch = torch.cat(batch.state)\n",
        "    action_batch = torch.cat(batch.action)\n",
        "    reward_batch = torch.cat(batch.reward)\n",
        "\n",
        "    # Calculates the Q-values predcited by the \"policy_net\" for the actions taken\n",
        "    state_action_values = policy_net(state_batch).gather(1, action_batch)\n",
        "\n",
        "    # Calculates the expected Q-values for the next states using the \"target_net\"\n",
        "    # Only does this for non_final states\n",
        "    # Calculated based on the maximum Q-value predicted for the next states following the Bellman equation\n",
        "    # adjusted by reward received and discount factor (GAMMA)\n",
        "    next_state_values = torch.zeros(BATCH_SIZE, device=device)\n",
        "    with torch.no_grad():\n",
        "        next_state_values[non_final_mask] = target_net(non_final_next_states).max(1).values\n",
        "    expected_state_action_values = (next_state_values * GAMMA) + reward_batch\n",
        "\n",
        "    # Loss between predicted Q-values \"state_action_values\" and expected Q-values \"expected_state_action_values\"\n",
        "    # computed using the Huber Loss (Smooth L1 Loss)\n",
        "    # which is less sensitive to outliers than squared error loss\n",
        "    criterion = nn.SmoothL1Loss()\n",
        "    loss = criterion(state_action_values, expected_state_action_values.unsqueeze(1))\n",
        "\n",
        "    # Gradient of loss with respect ot network parameters calculated using backpropagation\n",
        "    optimizer.zero_grad()\n",
        "    loss.backward()\n",
        "    \n",
        "    # Optimiser updates network parameters based on gradients\n",
        "    torch.nn.utils.clip_grad_value_(policy_net.parameters(), 100)\n",
        "    optimizer.step()"
      ]
    },
    {
      "attachments": {},
      "cell_type": "markdown",
      "metadata": {},
      "source": [
        "#### Epsilon Greedy Strategy ####"
      ]
    },
    {
      "cell_type": "code",
      "execution_count": 279,
      "metadata": {
        "colab": {
          "base_uri": "https://localhost:8080/"
        },
        "id": "_BGd9fDa9jX6",
        "outputId": "fd2e5dd4-bcdb-4343-c853-c96b23b95177"
      },
      "outputs": [],
      "source": [
        "def select_action(state):\n",
        "    # Epsilon Threshold Calculation\n",
        "    global steps_done\n",
        "    eps_threshold = EPS_END + (EPS_START - EPS_END) * math.exp(-1. * steps_done / EPS_DECAY)\n",
        "    steps_done += 1\n",
        "    \n",
        "    # Action Selection\n",
        "    if random.random() > eps_threshold:\n",
        "        with torch.no_grad():\n",
        "            # Select action with highest Q-value\n",
        "            return policy_net(state).max(1)[1].view(1, 1)\n",
        "    else:\n",
        "        # Select random action\n",
        "        return torch.tensor([[random.randrange(n_actions)]], device=device, dtype=torch.long)"
      ]
    },
    {
      "attachments": {},
      "cell_type": "markdown",
      "metadata": {},
      "source": [
        "#### Main Training Loop ####"
      ]
    },
    {
      "cell_type": "code",
      "execution_count": 280,
      "metadata": {},
      "outputs": [
        {
          "name": "stderr",
          "output_type": "stream",
          "text": [
            "100%|██████████| 1000/1000 [04:03<00:00,  4.10it/s]\n"
          ]
        }
      ],
      "source": [
        "# Constants\n",
        "number_of_episodes = 1000  # For DQN simulation learning\n",
        "gamma = 0.99  # Discount factor\n",
        "epsilon_start = 1.0  # Starting value of epsilon for exploration\n",
        "epsilon_end = 0.01  # Minimum value of epsilon\n",
        "epsilon_decay = 200  # Rate at which to decay epsilon\n",
        "batch_size = 128  # Batch size for replay memory sampling\n",
        "target_update = 10  # How often to update the target network\n",
        "\n",
        "# Initialize environment\n",
        "env = gym.make('CartPole-v1')\n",
        "\n",
        "# Get number of actions and observations from the environment\n",
        "n_actions = env.action_space.n\n",
        "n_observations = env.observation_space.shape[0]\n",
        "\n",
        "# Initialize policy and target networks\n",
        "policy_net = DQN(n_observations, n_actions).to(device)\n",
        "target_net = DQN(n_observations, n_actions).to(device)\n",
        "target_net.load_state_dict(policy_net.state_dict())\n",
        "target_net.eval()  # Set target net to evaluation mode\n",
        "\n",
        "# Optimizer and Replay Memory\n",
        "optimizer = optim.Adam(policy_net.parameters())\n",
        "memory = ReplayMemory(10000)\n",
        "\n",
        "# Function to update epsilon\n",
        "def epsilon_by_episode(episode):\n",
        "    return epsilon_end + (epsilon_start - epsilon_end) * math.exp(-1. * episode / epsilon_decay)\n",
        "\n",
        "all_episodes_reward = []\n",
        "\n",
        "for episode in tqdm(range(number_of_episodes)):\n",
        "    env_state, _ = env.reset()\n",
        "    state = torch.tensor([env_state], device=device, dtype=torch.float)\n",
        "    total_reward = 0\n",
        "    epsilon = epsilon_by_episode(episode)\n",
        "    done = False\n",
        "    \n",
        "    while not done:\n",
        "        action = select_action(state)\n",
        "        next_state, reward, done, _, _ = env.step(action.item())\n",
        "        total_reward += reward\n",
        "        \n",
        "        if total_reward > 500:  # Condition to stop the episode if reward exceeds 500\n",
        "            break  # Breaks out of the while loop, ending the episode\n",
        "        \n",
        "        if not done:\n",
        "            next_state_tensor = torch.tensor([next_state], device=device, dtype=torch.float)\n",
        "        else:\n",
        "            next_state_tensor = None\n",
        "        \n",
        "        # Store the transition in memory\n",
        "        reward_tensor = torch.tensor([reward], device=device)\n",
        "        memory.add(state, action, next_state_tensor, reward_tensor)\n",
        "        \n",
        "        # Move to the next state\n",
        "        state = next_state_tensor\n",
        "        \n",
        "        # Perform one step of the optimization\n",
        "        optimize_model()\n",
        "        \n",
        "    all_episodes_reward.append(total_reward)\n",
        "    \n",
        "    # Update the target network\n",
        "    if episode % target_update == 0:\n",
        "        target_net.load_state_dict(policy_net.state_dict())\n",
        "\n",
        "env.close()"
      ]
    },
    {
      "attachments": {},
      "cell_type": "markdown",
      "metadata": {
        "id": "PWoGbP-E64Au"
      },
      "source": [
        "The code below shows the agent's decision for a given observation."
      ]
    },
    {
      "cell_type": "code",
      "execution_count": 281,
      "metadata": {
        "colab": {
          "base_uri": "https://localhost:8080/"
        },
        "id": "Pu00m3IzQ_aN",
        "outputId": "5682bf55-4c7d-4b9d-cb7a-831c245cea3d"
      },
      "outputs": [
        {
          "name": "stdout",
          "output_type": "stream",
          "text": [
            "Sampled State: [ 6.9231093e-01  2.9461924e+38  4.0015143e-01 -1.1935672e+38]\n",
            "Chosen Action: 0\n"
          ]
        }
      ],
      "source": [
        "# Sample a random state from the environment\n",
        "random_state = env.observation_space.sample()\n",
        "state_tensor = torch.tensor([random_state], device=device, dtype=torch.float)\n",
        "\n",
        "# Choose action based on the randomly sampled state\n",
        "action = select_action(state_tensor)\n",
        "\n",
        "# Print the state and chosen action\n",
        "print(f\"Sampled State: {random_state}\")\n",
        "print(f\"Chosen Action: {action.item()}\")\n",
        "\n",
        "# Close the environment\n",
        "env.close()"
      ]
    },
    {
      "attachments": {},
      "cell_type": "markdown",
      "metadata": {
        "id": "-XtIQ0Rti1gm"
      },
      "source": [
        "## Task 2: Demonstrate the effectiveness of the RL agent"
      ]
    },
    {
      "attachments": {},
      "cell_type": "markdown",
      "metadata": {
        "id": "OAwlfF3LBV0D"
      },
      "source": [
        "Here we run the agent again for 100 times, and append the reward for each round to a list."
      ]
    },
    {
      "cell_type": "code",
      "execution_count": 282,
      "metadata": {
        "colab": {
          "base_uri": "https://localhost:8080/"
        },
        "id": "SRGBPweHXc7h",
        "outputId": "92d28009-0254-4559-cdf8-e9d2bdf0335f"
      },
      "outputs": [
        {
          "name": "stderr",
          "output_type": "stream",
          "text": [
            "100%|██████████| 100/100 [00:02<00:00, 47.27it/s]"
          ]
        },
        {
          "name": "stdout",
          "output_type": "stream",
          "text": [
            "Average Reward over 100 episodes: 496.15\n"
          ]
        },
        {
          "name": "stderr",
          "output_type": "stream",
          "text": [
            "\n"
          ]
        },
        {
          "data": {
            "image/png": "[encoded data removed]",
            "text/plain": [
              "<Figure size 1000x500 with 1 Axes>"
            ]
          },
          "metadata": {},
          "output_type": "display_data"
        }
      ],
      "source": [
        "def run_episodes(env, policy_net, n_episodes=100):\n",
        "    rewards = []\n",
        "    for episode in tqdm(range(n_episodes)):\n",
        "        # Adjusting for the new env.reset() return values\n",
        "        state, _ = env.reset()\n",
        "        state = torch.tensor([state], device=device, dtype=torch.float)\n",
        "        episode_reward = 0\n",
        "        done = False\n",
        "        while not done:\n",
        "            action = select_action(state)\n",
        "            # Adjusting for the new env.step(action) return values\n",
        "            next_state, reward, done, _, _ = env.step(action.item())\n",
        "            episode_reward += reward\n",
        "            \n",
        "            if episode_reward > 500:  # Check if the reward exceeds 500\n",
        "                break  # Stop the episode and move on to the next one\n",
        "\n",
        "            # Prepare the next state for the next iteration\n",
        "            next_state = torch.tensor([next_state], device=device, dtype=torch.float)\n",
        "            state = next_state\n",
        "\n",
        "        rewards.append(episode_reward)\n",
        "    return rewards\n",
        "\n",
        "# Run episodes and collect rewards\n",
        "episode_rewards = run_episodes(env, policy_net, n_episodes=100)\n",
        "\n",
        "# Calculate and print the average reward\n",
        "average_reward = sum(episode_rewards) / len(episode_rewards)\n",
        "print(f\"Average Reward over 100 episodes: {average_reward}\")\n",
        "\n",
        "# Plotting the rewards\n",
        "plt.figure(figsize=(10,5))\n",
        "plt.plot(episode_rewards)\n",
        "plt.title('Cumulative Reward per Episode')\n",
        "plt.xlabel('Episode')\n",
        "plt.ylabel('Cumulative Reward')\n",
        "plt.show()"
      ]
    },
    {
      "attachments": {},
      "cell_type": "markdown",
      "metadata": {
        "id": "Yg0DCT38lFA6"
      },
      "source": [
        "## Task 3: Render one episode played by the agent"
      ]
    },
    {
      "cell_type": "markdown",
      "metadata": {},
      "source": [
        "# TASK 4: INSTRUCTION AND EXPLANATION"
      ]
    },
    {
      "attachments": {},
      "cell_type": "markdown",
      "metadata": {},
      "source": [
        "In building our DQN model, we have implemented a Q-network along with a replay memory system, which follows the structure outlined in https://www.baeldung.com/cs/q-learning-vs-deep-q-learning-vs-deep-q-network."
      ]
    },
    {
      "attachments": {},
      "cell_type": "markdown",
      "metadata": {},
      "source": [
        "__Q-Network__: <br>\n",
        "The Q-network is a neural network which takes the state of the environment as input and outputs the expected reward for each possible action. This is the decision mkaing part of our mode. It starts with random guesses but gets better as it learns from the game through training.\n",
        "\n",
        "__Replay Memory__: <br>\n",
        "To help our Q-network learn, the replay memory is needed as it stores experiences (state, action, reward and new states) during teh game. Rather than learning from consecutive experiences as they happn, the model randomly samples from this memory, which can help to break any correlations in the sequence of experiences and leads to more stable learning."
      ]
    },
    {
      "attachments": {},
      "cell_type": "markdown",
      "metadata": {},
      "source": [
        "By combining the 2, we ensure that our model learns from more than the most recent experience but benefits from past expereinces as well, leading to more effective learning. As it plays more games, it relies less on exploration and more on exploitation, which is known as epsilon decay, which was mentioned in the previous Q-learning implementation."
      ]
    },
    {
      "attachments": {},
      "cell_type": "markdown",
      "metadata": {},
      "source": [
        "References:\n",
        "In developing our RL agent, we referenced the PyTorch Tutoral on the implementation of DQN on both the Q-Network and Replay Memory. https://pytorch.org/tutorials/intermediate/reinforcement_q_learning.html"
      ]
    }
  ],
  "metadata": {
    "colab": {
      "provenance": []
    },
    "kernelspec": {
      "display_name": "Python 3",
      "language": "python",
      "name": "python3"
    },
    "language_info": {
      "codemirror_mode": {
        "name": "ipython",
        "version": 3
      },
      "file_extension": ".py",
      "mimetype": "text/x-python",
      "name": "python",
      "nbconvert_exporter": "python",
      "pygments_lexer": "ipython3",
      "version": "3.9.6"
    },
    "vscode": {
      "interpreter": {
        "hash": "aee8b7b246df8f9039afb4144a1f6fd8d2ca17a180786b69acc140d282b71a49"
      }
    }
  },
  "nbformat": 4,
  "nbformat_minor": 0
}
